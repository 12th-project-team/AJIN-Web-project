{
 "cells": [
  {
   "cell_type": "code",
   "execution_count": null,
   "id": "13bae505",
   "metadata": {
    "vscode": {
     "languageId": "ini"
    }
   },
   "outputs": [],
   "source": [
    "from langchain.document_loaders import PyPDFLoader\n",
    "from langchain.text_splitter import RecursiveCharacterTextSplitter\n",
    "from langchain.embeddings import OpenAIEmbeddings\n",
    "from langchain.vectorstores import FAISS\n",
    "from pathlib import Path\n",
    "import os\n",
    "\n",
    "# 1. 프로젝트 루트 기준 상대경로로 PDF 경로 지정\n",
    "base_dir = Path(__file__).parent  # 현재 코드 파일 기준 폴더\n",
    "pdf_paths = [\n",
    "    base_dir / \"pdf\" / \"2023_핵심_컴퓨터활용능력1급_필기.pdf\"\n",
    "]\n",
    "\n",
    "# PDF 파일 존재 여부 체크\n",
    "for path in pdf_paths:\n",
    "    if not path.exists():\n",
    "        raise FileNotFoundError(f\"PDF 파일이 없습니다: {path}\")\n",
    "\n",
    "# 2. PDF 문서 로드\n",
    "all_docs = []\n",
    "for path in pdf_paths:\n",
    "    loader = PyPDFLoader(str(path))\n",
    "    docs = loader.load()\n",
    "    all_docs.extend(docs)\n",
    "\n",
    "# 3. PDF 문서를 청크로 분할\n",
    "text_splitter = RecursiveCharacterTextSplitter(\n",
    "    chunk_size=1000,\n",
    "    chunk_overlap=150\n",
    ")\n",
    "split_docs = text_splitter.split_documents(all_docs)\n",
    "\n",
    "# 4. 단어 임베딩 생성\n",
    "openai_api_key = \"본인의-OpenAI-API-키-여기에-입력\"\n",
    "embeddings = OpenAIEmbeddings(openai_api_key=openai_api_key)\n",
    "\n",
    "# 5. 벡터스토어에 청크 저장\n",
    "vectorstore = FAISS.from_documents(split_docs, embeddings)\n",
    "\n",
    "# 6. 벡터스토어 저장 폴더 생성 (상대경로)\n",
    "save_dir = base_dir / \"faiss_db\"\n",
    "save_dir.mkdir(parents=True, exist_ok=True)\n",
    "\n",
    "# 7. 벡터스토어 로컬 저장\n",
    "vectorstore.save_local(folder_path=str(save_dir), index_name=\"index\")\n",
    "\n",
    "print(f\"✅ 벡터스토어 저장 완료: {save_dir.resolve()}\")\n"
   ]
  }
 ],
 "metadata": {
  "kernelspec": {
   "display_name": "Python 3",
   "language": "python",
   "name": "python3"
  },
  "language_info": {
   "codemirror_mode": {
    "name": "ipython",
    "version": 3
   },
   "file_extension": ".py",
   "mimetype": "text/x-python",
   "name": "python",
   "nbconvert_exporter": "python",
   "pygments_lexer": "ipython3",
   "version": "3.11.9"
  }
 },
 "nbformat": 4,
 "nbformat_minor": 5
}
